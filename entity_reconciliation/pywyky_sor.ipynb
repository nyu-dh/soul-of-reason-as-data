{
 "cells": [
  {
   "cell_type": "code",
   "execution_count": 1,
   "id": "cellular-blackberry",
   "metadata": {},
   "outputs": [],
   "source": [
    "%matplotlib inline\n",
    "\n",
    "import matplotlib\n",
    "import requests\n",
    "import random\n",
    "import urllib.parse\n",
    "from tqdm import tqdm\n",
    "from time import sleep\n",
    "import pandas as pd"
   ]
  },
  {
   "cell_type": "code",
   "execution_count": 2,
   "id": "inside-string",
   "metadata": {},
   "outputs": [
    {
     "data": {
      "text/html": [
       "<div>\n",
       "<style scoped>\n",
       "    .dataframe tbody tr th:only-of-type {\n",
       "        vertical-align: middle;\n",
       "    }\n",
       "\n",
       "    .dataframe tbody tr th {\n",
       "        vertical-align: top;\n",
       "    }\n",
       "\n",
       "    .dataframe thead th {\n",
       "        text-align: right;\n",
       "    }\n",
       "</style>\n",
       "<table border=\"1\" class=\"dataframe\">\n",
       "  <thead>\n",
       "    <tr style=\"text-align: right;\">\n",
       "      <th></th>\n",
       "      <th>entity</th>\n",
       "      <th>entity_type</th>\n",
       "      <th>doc_id</th>\n",
       "    </tr>\n",
       "  </thead>\n",
       "  <tbody>\n",
       "    <tr>\n",
       "      <th>0</th>\n",
       "      <td>police athletic league</td>\n",
       "      <td>ORG</td>\n",
       "      <td>RG_9_8_110</td>\n",
       "    </tr>\n",
       "    <tr>\n",
       "      <th>1</th>\n",
       "      <td>new york city</td>\n",
       "      <td>GPE</td>\n",
       "      <td>RG_9_8_110</td>\n",
       "    </tr>\n",
       "    <tr>\n",
       "      <th>2</th>\n",
       "      <td>connie ford</td>\n",
       "      <td>PERSON</td>\n",
       "      <td>RG_9_8_110</td>\n",
       "    </tr>\n",
       "    <tr>\n",
       "      <th>3</th>\n",
       "      <td>pal</td>\n",
       "      <td>ORG</td>\n",
       "      <td>RG_9_8_110</td>\n",
       "    </tr>\n",
       "    <tr>\n",
       "      <th>4</th>\n",
       "      <td>soul of reason</td>\n",
       "      <td>WORK_OF_ART</td>\n",
       "      <td>RG_9_8_110</td>\n",
       "    </tr>\n",
       "  </tbody>\n",
       "</table>\n",
       "</div>"
      ],
      "text/plain": [
       "                   entity  entity_type      doc_id\n",
       "0  police athletic league          ORG  RG_9_8_110\n",
       "1           new york city          GPE  RG_9_8_110\n",
       "2             connie ford       PERSON  RG_9_8_110\n",
       "3                     pal          ORG  RG_9_8_110\n",
       "4          soul of reason  WORK_OF_ART  RG_9_8_110"
      ]
     },
     "execution_count": 2,
     "metadata": {},
     "output_type": "execute_result"
    }
   ],
   "source": [
    "df = pd.read_csv(\"input/NER_results.csv\", header='infer')\n",
    "columns = ['Start_index', 'End_index', 'description', 'transcriber name', 'transcript status', 'title', 'date']\n",
    "df.drop(columns, inplace=True, axis=1)\n",
    "df = df.rename(columns={'Entities': 'entity', 'Label': 'entity_type', 'Doc_ID': 'doc_id'})\n",
    "df.head()"
   ]
  },
  {
   "cell_type": "code",
   "execution_count": 3,
   "id": "constant-disease",
   "metadata": {},
   "outputs": [
    {
     "data": {
      "text/plain": [
       "6800"
      ]
     },
     "execution_count": 3,
     "metadata": {},
     "output_type": "execute_result"
    }
   ],
   "source": [
    "len(df)"
   ]
  },
  {
   "cell_type": "code",
   "execution_count": 4,
   "id": "explicit-relations",
   "metadata": {},
   "outputs": [
    {
     "data": {
      "text/html": [
       "<div>\n",
       "<style scoped>\n",
       "    .dataframe tbody tr th:only-of-type {\n",
       "        vertical-align: middle;\n",
       "    }\n",
       "\n",
       "    .dataframe tbody tr th {\n",
       "        vertical-align: top;\n",
       "    }\n",
       "\n",
       "    .dataframe thead th {\n",
       "        text-align: right;\n",
       "    }\n",
       "</style>\n",
       "<table border=\"1\" class=\"dataframe\">\n",
       "  <thead>\n",
       "    <tr style=\"text-align: right;\">\n",
       "      <th></th>\n",
       "      <th>entity</th>\n",
       "      <th>entity_type</th>\n",
       "      <th>frequency</th>\n",
       "      <th>doc_id</th>\n",
       "    </tr>\n",
       "  </thead>\n",
       "  <tbody>\n",
       "    <tr>\n",
       "      <th>1745</th>\n",
       "      <td>soul of reason</td>\n",
       "      <td>WORK_OF_ART</td>\n",
       "      <td>324</td>\n",
       "      <td>[RG_9_8_110, RG_9_8_110, RG_9_8_110, RG_9_8_11...</td>\n",
       "    </tr>\n",
       "    <tr>\n",
       "      <th>1420</th>\n",
       "      <td>new york university</td>\n",
       "      <td>ORG</td>\n",
       "      <td>193</td>\n",
       "      <td>[RG_9_8_110, RG_9_8_110, RG_9_8_42, RG_9_8_42,...</td>\n",
       "    </tr>\n",
       "    <tr>\n",
       "      <th>1419</th>\n",
       "      <td>new york university</td>\n",
       "      <td>FAC</td>\n",
       "      <td>193</td>\n",
       "      <td>[RG_9_8_52]</td>\n",
       "    </tr>\n",
       "    <tr>\n",
       "      <th>1398</th>\n",
       "      <td>new york</td>\n",
       "      <td>GPE</td>\n",
       "      <td>176</td>\n",
       "      <td>[RG_9_8_110, RG_9_8_110, RG_9_8_42, RG_9_8_42,...</td>\n",
       "    </tr>\n",
       "    <tr>\n",
       "      <th>1399</th>\n",
       "      <td>new york</td>\n",
       "      <td>ORG</td>\n",
       "      <td>176</td>\n",
       "      <td>[RG_9_8_187]</td>\n",
       "    </tr>\n",
       "  </tbody>\n",
       "</table>\n",
       "</div>"
      ],
      "text/plain": [
       "                   entity  entity_type  frequency  \\\n",
       "1745       soul of reason  WORK_OF_ART        324   \n",
       "1420  new york university          ORG        193   \n",
       "1419  new york university          FAC        193   \n",
       "1398             new york          GPE        176   \n",
       "1399             new york          ORG        176   \n",
       "\n",
       "                                                 doc_id  \n",
       "1745  [RG_9_8_110, RG_9_8_110, RG_9_8_110, RG_9_8_11...  \n",
       "1420  [RG_9_8_110, RG_9_8_110, RG_9_8_42, RG_9_8_42,...  \n",
       "1419                                        [RG_9_8_52]  \n",
       "1398  [RG_9_8_110, RG_9_8_110, RG_9_8_42, RG_9_8_42,...  \n",
       "1399                                       [RG_9_8_187]  "
      ]
     },
     "execution_count": 4,
     "metadata": {},
     "output_type": "execute_result"
    }
   ],
   "source": [
    "df['frequency'] = df['entity'].map(df['entity'].value_counts())\n",
    "df = df.groupby(['entity','entity_type','frequency'])['doc_id'].apply(list).reset_index()\n",
    "df = df.sort_values(by=['frequency'], ascending=False)\n",
    "df.head()"
   ]
  },
  {
   "cell_type": "code",
   "execution_count": 5,
   "id": "statutory-screening",
   "metadata": {},
   "outputs": [
    {
     "data": {
      "text/plain": [
       "2467"
      ]
     },
     "execution_count": 5,
     "metadata": {},
     "output_type": "execute_result"
    }
   ],
   "source": [
    "len(df)"
   ]
  },
  {
   "cell_type": "code",
   "execution_count": 6,
   "id": "unlimited-theta",
   "metadata": {},
   "outputs": [],
   "source": [
    "df.to_csv('results/frequecy_sorted_entities.csv', encoding='utf-8', index=False)"
   ]
  },
  {
   "cell_type": "code",
   "execution_count": 7,
   "id": "jewish-emperor",
   "metadata": {},
   "outputs": [],
   "source": [
    "uri_prefix = \"https://wikidata.reconci.link/en/api?queries=\"\n",
    "match_ids = []\n",
    "match_names = []\n",
    "match_scores = []"
   ]
  },
  {
   "cell_type": "code",
   "execution_count": 8,
   "id": "offensive-raleigh",
   "metadata": {
    "scrolled": true
   },
   "outputs": [
    {
     "name": "stderr",
     "output_type": "stream",
     "text": [
      "100%|██████████| 2467/2467 [2:05:10<00:00,  3.04s/it]   \n"
     ]
    }
   ],
   "source": [
    "for i in tqdm(range(len(df))):\n",
    "    n = random.uniform(0, 0.17)\n",
    "    sleep(n)\n",
    "    item = df.iloc[i]\n",
    "    request = uri_prefix + urllib.parse.quote_plus('{\"q1\": {\"query\": \"' + item['entity'] + '\"}}')\n",
    "    response = requests.get(request).json().get('q1').get('result')\n",
    "    if response:\n",
    "        match = response[0]\n",
    "        match_ids.append(match.get('id', None))\n",
    "        match_names.append(match.get('name', None)) \n",
    "        match_scores.append(match.get('score', None))\n",
    "    else:\n",
    "        match_ids.append(None)\n",
    "        match_names.append(None)\n",
    "        match_scores.append(None)"
   ]
  },
  {
   "cell_type": "code",
   "execution_count": 9,
   "id": "647f6a64",
   "metadata": {},
   "outputs": [],
   "source": [
    "df['match_id'] = match_ids\n",
    "df['match_name'] = match_names\n",
    "df['match_score'] = match_scores"
   ]
  },
  {
   "cell_type": "code",
   "execution_count": 10,
   "id": "948d4a8d",
   "metadata": {},
   "outputs": [
    {
     "data": {
      "text/html": [
       "<div>\n",
       "<style scoped>\n",
       "    .dataframe tbody tr th:only-of-type {\n",
       "        vertical-align: middle;\n",
       "    }\n",
       "\n",
       "    .dataframe tbody tr th {\n",
       "        vertical-align: top;\n",
       "    }\n",
       "\n",
       "    .dataframe thead th {\n",
       "        text-align: right;\n",
       "    }\n",
       "</style>\n",
       "<table border=\"1\" class=\"dataframe\">\n",
       "  <thead>\n",
       "    <tr style=\"text-align: right;\">\n",
       "      <th></th>\n",
       "      <th>entity</th>\n",
       "      <th>entity_type</th>\n",
       "      <th>frequency</th>\n",
       "      <th>doc_id</th>\n",
       "      <th>match_id</th>\n",
       "      <th>match_name</th>\n",
       "      <th>match_score</th>\n",
       "    </tr>\n",
       "  </thead>\n",
       "  <tbody>\n",
       "    <tr>\n",
       "      <th>1745</th>\n",
       "      <td>soul of reason</td>\n",
       "      <td>WORK_OF_ART</td>\n",
       "      <td>324</td>\n",
       "      <td>[RG_9_8_110, RG_9_8_110, RG_9_8_110, RG_9_8_11...</td>\n",
       "      <td>Q106642437</td>\n",
       "      <td>Soul of Reason</td>\n",
       "      <td>100.0</td>\n",
       "    </tr>\n",
       "    <tr>\n",
       "      <th>1420</th>\n",
       "      <td>new york university</td>\n",
       "      <td>ORG</td>\n",
       "      <td>193</td>\n",
       "      <td>[RG_9_8_110, RG_9_8_110, RG_9_8_42, RG_9_8_42,...</td>\n",
       "      <td>Q49210</td>\n",
       "      <td>New York University</td>\n",
       "      <td>100.0</td>\n",
       "    </tr>\n",
       "    <tr>\n",
       "      <th>1419</th>\n",
       "      <td>new york university</td>\n",
       "      <td>FAC</td>\n",
       "      <td>193</td>\n",
       "      <td>[RG_9_8_52]</td>\n",
       "      <td>Q49210</td>\n",
       "      <td>New York University</td>\n",
       "      <td>100.0</td>\n",
       "    </tr>\n",
       "    <tr>\n",
       "      <th>1398</th>\n",
       "      <td>new york</td>\n",
       "      <td>GPE</td>\n",
       "      <td>176</td>\n",
       "      <td>[RG_9_8_110, RG_9_8_110, RG_9_8_42, RG_9_8_42,...</td>\n",
       "      <td>Q60</td>\n",
       "      <td>New York City</td>\n",
       "      <td>100.0</td>\n",
       "    </tr>\n",
       "    <tr>\n",
       "      <th>1399</th>\n",
       "      <td>new york</td>\n",
       "      <td>ORG</td>\n",
       "      <td>176</td>\n",
       "      <td>[RG_9_8_187]</td>\n",
       "      <td>Q60</td>\n",
       "      <td>New York City</td>\n",
       "      <td>100.0</td>\n",
       "    </tr>\n",
       "  </tbody>\n",
       "</table>\n",
       "</div>"
      ],
      "text/plain": [
       "                   entity  entity_type  frequency  \\\n",
       "1745       soul of reason  WORK_OF_ART        324   \n",
       "1420  new york university          ORG        193   \n",
       "1419  new york university          FAC        193   \n",
       "1398             new york          GPE        176   \n",
       "1399             new york          ORG        176   \n",
       "\n",
       "                                                 doc_id    match_id  \\\n",
       "1745  [RG_9_8_110, RG_9_8_110, RG_9_8_110, RG_9_8_11...  Q106642437   \n",
       "1420  [RG_9_8_110, RG_9_8_110, RG_9_8_42, RG_9_8_42,...      Q49210   \n",
       "1419                                        [RG_9_8_52]      Q49210   \n",
       "1398  [RG_9_8_110, RG_9_8_110, RG_9_8_42, RG_9_8_42,...         Q60   \n",
       "1399                                       [RG_9_8_187]         Q60   \n",
       "\n",
       "               match_name  match_score  \n",
       "1745       Soul of Reason        100.0  \n",
       "1420  New York University        100.0  \n",
       "1419  New York University        100.0  \n",
       "1398        New York City        100.0  \n",
       "1399        New York City        100.0  "
      ]
     },
     "execution_count": 10,
     "metadata": {},
     "output_type": "execute_result"
    }
   ],
   "source": [
    "df.head()"
   ]
  },
  {
   "cell_type": "code",
   "execution_count": 11,
   "id": "outer-pregnancy",
   "metadata": {},
   "outputs": [
    {
     "data": {
      "text/plain": [
       "<AxesSubplot:>"
      ]
     },
     "execution_count": 11,
     "metadata": {},
     "output_type": "execute_result"
    },
    {
     "data": {
      "image/png": "[encoded data removed]",
      "text/plain": [
       "<Figure size 432x288 with 1 Axes>"
      ]
     },
     "metadata": {
      "needs_background": "light"
     },
     "output_type": "display_data"
    }
   ],
   "source": [
    "df['match_score'].hist()"
   ]
  },
  {
   "cell_type": "code",
   "execution_count": 13,
   "id": "indoor-lobby",
   "metadata": {},
   "outputs": [],
   "source": [
    "f = open('results/matches.csv', mode='w')\n",
    "f.write(df.to_csv(index=False))\n",
    "f.close()"
   ]
  },
  {
   "cell_type": "markdown",
   "id": "living-appraisal",
   "metadata": {},
   "source": []
  }
 ],
 "metadata": {
  "kernelspec": {
   "display_name": "Python 3",
   "language": "python",
   "name": "python3"
  },
  "language_info": {
   "codemirror_mode": {
    "name": "ipython",
    "version": 3
   },
   "file_extension": ".py",
   "mimetype": "text/x-python",
   "name": "python",
   "nbconvert_exporter": "python",
   "pygments_lexer": "ipython3",
   "version": "3.8.6"
  }
 },
 "nbformat": 4,
 "nbformat_minor": 5
}
